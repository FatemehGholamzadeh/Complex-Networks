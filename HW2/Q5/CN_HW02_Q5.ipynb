{
  "nbformat": 4,
  "nbformat_minor": 0,
  "metadata": {
    "colab": {
      "name": "CN_HW02_Q5.ipynb",
      "provenance": [],
      "collapsed_sections": []
    },
    "kernelspec": {
      "name": "python3",
      "display_name": "Python 3"
    },
    "language_info": {
      "name": "python"
    }
  },
  "cells": [
    {
      "cell_type": "code",
      "source": [
        "!pip install igraph"
      ],
      "metadata": {
        "colab": {
          "base_uri": "https://localhost:8080/"
        },
        "id": "DgR0UhFun_uL",
        "outputId": "27bbd47d-4a3d-4a6f-dfdb-78d36d1da8a5"
      },
      "execution_count": null,
      "outputs": [
        {
          "output_type": "stream",
          "name": "stdout",
          "text": [
            "Requirement already satisfied: igraph in /usr/local/lib/python3.7/dist-packages (0.9.8)\n",
            "Requirement already satisfied: texttable>=1.6.2 in /usr/local/lib/python3.7/dist-packages (from igraph) (1.6.4)\n"
          ]
        }
      ]
    },
    {
      "cell_type": "code",
      "source": [
        "!pip install python-igraph "
      ],
      "metadata": {
        "colab": {
          "base_uri": "https://localhost:8080/"
        },
        "id": "DC6vhjF2SazK",
        "outputId": "f55a105b-625d-45cd-d0a9-c5ed5b1acd87"
      },
      "execution_count": null,
      "outputs": [
        {
          "output_type": "stream",
          "name": "stdout",
          "text": [
            "Collecting python-igraph\n",
            "  Downloading python-igraph-0.9.8.tar.gz (9.5 kB)\n",
            "Requirement already satisfied: igraph==0.9.8 in /usr/local/lib/python3.7/dist-packages (from python-igraph) (0.9.8)\n",
            "Requirement already satisfied: texttable>=1.6.2 in /usr/local/lib/python3.7/dist-packages (from igraph==0.9.8->python-igraph) (1.6.4)\n",
            "Building wheels for collected packages: python-igraph\n",
            "  Building wheel for python-igraph (setup.py) ... \u001b[?25l\u001b[?25hdone\n",
            "  Created wheel for python-igraph: filename=python_igraph-0.9.8-py3-none-any.whl size=9070 sha256=eb703336db390034d4e5f2144eb61cc58f2656b47baa737696613bcebc93f134\n",
            "  Stored in directory: /root/.cache/pip/wheels/15/86/ef/b8bcdfbcb1c489771ad256c7cd1eb4971cdb7f3f670938b798\n",
            "Successfully built python-igraph\n",
            "Installing collected packages: python-igraph\n",
            "Successfully installed python-igraph-0.9.8\n"
          ]
        }
      ]
    },
    {
      "cell_type": "code",
      "execution_count": null,
      "metadata": {
        "id": "J3S0Uth5nbiK"
      },
      "outputs": [],
      "source": [
        "from igraph import *\n",
        "from math import *\n",
        "import sys\n",
        "import numpy as np\n",
        "import os\n",
        "import glob\n",
        "import random\n",
        "from random import shuffle\n",
        "from random import seed\n",
        "import matplotlib.pyplot as plt\n",
        "import time\n",
        "import datetime\n",
        "import collections\n",
        "import networkx as nx\n",
        "# from networkx import *"
      ]
    },
    {
      "cell_type": "code",
      "source": [
        "# Constants\n",
        "k = 5 \t\t# Top k recomendations for a target user (Used for testing model-accuracy metrics)"
      ],
      "metadata": {
        "id": "LkSAMeaBnerM"
      },
      "execution_count": null,
      "outputs": []
    },
    {
      "cell_type": "code",
      "source": [
        "# load edge-list from file\n",
        "def get_edge_list(dataset_path):\n",
        "\tdata_file = open(dataset_path)\n",
        "\tedge_list = map(lambda x:tuple(map(int,x.split())),data_file.read().split(\"\\n\")[:-1])\n",
        "\tdata_file.close()\n",
        "\treturn edge_list\n",
        "\n",
        "# Get the similarity product for a path\n",
        "# (product of path-step similarities)\n",
        "def get_sim_product(sim, shortest_path):\n",
        "\tprod = 1\n",
        "\tfor i in range(len(shortest_path) - 1):\n",
        "\t\tprod *= sim[shortest_path[i]][shortest_path[i+1]]\n",
        "\treturn round(prod,3)\n",
        "\n",
        "# Filter out, Sort and Get top-K predictions\n",
        "def get_top_k_recommendations(graph,sim,i,k):\n",
        "\treturn  sorted(filter(lambda x: i!=x and graph[i,x] != 1,range(len(sim[i]))) , key=lambda x: sim[i][x],reverse=True)[0:k]\n",
        "\n",
        "# Convert edge_list into a set of constituent edges\n",
        "def get_vertices_set(edge_list):\n",
        "\tres = set()\n",
        "\tfor x,y in edge_list:\n",
        "\t\tres.add(x)\n",
        "\t\tres.add(y)\n",
        "\treturn res"
      ],
      "metadata": {
        "id": "oWV1I252netp"
      },
      "execution_count": null,
      "outputs": []
    },
    {
      "cell_type": "markdown",
      "source": [
        "# **split dataset**"
      ],
      "metadata": {
        "id": "uIjti-wOP_1X"
      }
    },
    {
      "cell_type": "code",
      "source": [
        "def split_data(edge_list):\n",
        "  random.seed(350)\n",
        "  edge_list = list(edge_list)\n",
        "  indexes = range(len((edge_list)))\n",
        "  test_indexes = set(random.sample(indexes, len(indexes)//2)) # removing 50% edges from test data\n",
        "  train_indexes = set(indexes).difference(test_indexes)\n",
        "  test_list = [edge_list[i] for i in (test_indexes)]\n",
        "  train_list = [edge_list[i] for i in train_indexes]\n",
        "  return train_list,test_list"
      ],
      "metadata": {
        "id": "fs8APZ--4a6v"
      },
      "execution_count": null,
      "outputs": []
    },
    {
      "cell_type": "markdown",
      "source": [
        "# **find precision and recall**"
      ],
      "metadata": {
        "id": "UU3FzPCJQHNd"
      }
    },
    {
      "cell_type": "code",
      "source": [
        "import igraph\n",
        "# Calculates accuracy metrics (Precision & Recall),\n",
        "def print_precision_and_recall(sim,train_graph,test_graph,test_vertices_set,train_vertices_set):\n",
        "\tprecision = recall = c = 0\n",
        "\tfor i in test_vertices_set:\n",
        "\t\tif i in train_vertices_set:\n",
        "\t\t\tactual_friends_of_i = set(test_graph.neighbors(i))\n",
        "\n",
        "\t\t\t# Handles case where test-data < k\n",
        "\t\t\tif len(actual_friends_of_i) < k:\n",
        "\t\t\t\tk2 = len(actual_friends_of_i)\n",
        "\t\t\telse:\n",
        "\t\t\t\tk2 = k\n",
        "\n",
        "\t\t\ttop_k = set(get_top_k_recommendations(train_graph,sim,i,k2))\n",
        "\n",
        "\t\t\tprecision += len(top_k.intersection(actual_friends_of_i))/float(k2)\n",
        "\t\t\trecall += len(top_k.intersection(actual_friends_of_i))/float(len(actual_friends_of_i))\n",
        "\t\t\tc += 1\n",
        "\tprint (\"Precision is : \" + str(precision/c))\n",
        "\tprint (\"Recall is : \" + str(recall/c))"
      ],
      "metadata": {
        "id": "fmVTjE8S4XZ_"
      },
      "execution_count": null,
      "outputs": []
    },
    {
      "cell_type": "markdown",
      "source": [
        "# **Similarity metrics**"
      ],
      "metadata": {
        "id": "N7h8McepQTRV"
      }
    },
    {
      "cell_type": "code",
      "source": [
        "def similarity(graph, i, j, method):\n",
        "\tif method == \"common_neighbors\":\n",
        "\t\treturn len(set(graph.neighbors(i)).intersection(set(graph.neighbors(j))))\n",
        "\telif method == \"jaccard\":\n",
        "\t\treturn len(set(graph.neighbors(i)).intersection(set(graph.neighbors(j))))/float(len(set(graph.neighbors(i)).union(set(graph.neighbors(j)))))\n",
        "\telif method == \"adamic_adar\":\n",
        "\t\treturn sum([1.0/math.log(graph.degree(v)) for v in set(graph.neighbors(i)).intersection(set(graph.neighbors(j)))])\n",
        "\t\n",
        "\telif method == \"shortest_path\":\n",
        "\t\tgraph2 = graph.to_networkx()\t\n",
        "\t\tif(nx.has_path(graph2,i,j)):\n",
        "\t\t\ta = nx.algorithms.shortest_path_length(graph2,i,j)\t\t\n",
        "\t\telse:\n",
        "\t\t\ta = 100000\n",
        "\t\t\tprint(a)\n",
        "\t\treturn a\n",
        "\t\t# return 0\n",
        "\t\t# igraph._igraph.GraphBase()\n",
        "\t\t# a = igraph.Graph.shortest_paths(i,j)\n",
        "\t\t# print(a)\n",
        "\t\t# return a"
      ],
      "metadata": {
        "id": "vo-tDvh1QRqZ"
      },
      "execution_count": null,
      "outputs": []
    },
    {
      "cell_type": "markdown",
      "source": [
        "# **Link Prediction Methods**"
      ],
      "metadata": {
        "id": "QESeTj8VPSBG"
      }
    },
    {
      "cell_type": "code",
      "source": [
        "def prediction(edge_list,method):\n",
        "\ttrain_list, test_list = split_data(edge_list)\n",
        "\ttrain_graph = Graph(train_list)\n",
        "\ttest_graph = Graph(test_list)\n",
        "\ttrain_n =  train_graph.vcount() # This is maximum of the vertex id + 1\n",
        "\ttrain_vertices_set = get_vertices_set(train_list) # Need this because we have to only consider target users who are present in this train_vertices_set\n",
        "\ttest_vertices_set = get_vertices_set(test_list) # Set of target users\n",
        "\n",
        "\tsim = [[0 for i in range(train_n)] for j in range(train_n)]\n",
        "\tif method !=\"shortest_path\":\n",
        "\t\tfor i in range(train_n):\n",
        "\t\t\tfor j in range(train_n):\n",
        "\t\t\t\tif i!=j and i in train_vertices_set and j in train_vertices_set:\n",
        "\t\t\t\t\tsim[i][j] = similarity(train_graph,i,j,method) \n",
        "\telse:\n",
        "\t\tsp = {}\n",
        "\t\tfor i in train_vertices_set:\n",
        "\t\t\tsp[i] = train_graph.get_shortest_paths(i)\n",
        "\n",
        "\t\tfor i in range(train_n):\n",
        "\t\t\tfor j in range(train_n):\n",
        "\t\t\t\tif i!=j and i in train_vertices_set and j in train_vertices_set:\n",
        "\t\t\t\t\tsim[i][j] = sp[i][j]\n",
        "\t# else:\n",
        "\t# \tgraph2 = train_graph.to_networkx()\n",
        "\t# \tsp = dict(nx.shortest_path_length(graph2))\n",
        "\t# \tprint(sp.get('1'))\n",
        "\n",
        "\tprint_precision_and_recall(sim,train_graph,test_graph,test_vertices_set,train_vertices_set)"
      ],
      "metadata": {
        "id": "Ha4i0WhfnewP"
      },
      "execution_count": null,
      "outputs": []
    },
    {
      "cell_type": "code",
      "source": [
        "def main():\n",
        "\t# Command line argument parsing\n",
        "\tmethod = \"common_neighbors\"\n",
        "\tdataset_path = \"/content/drive/MyDrive/Complex_Networks/HW02/facebook_combined.txt\"\n",
        "\tedge_list = get_edge_list(dataset_path)\n",
        "\tif method == \"common_neighbors\" or method == \"jaccard\" or method == \"adamic_adar\"  or method ==\"shortest_path\":\n",
        "\t\tprediction(edge_list,method)\t\n",
        "\telse:\n",
        "\t\tprint (\"please enter a valid method\")"
      ],
      "metadata": {
        "id": "gjEEAsD5neyt"
      },
      "execution_count": null,
      "outputs": []
    },
    {
      "cell_type": "code",
      "source": [
        "main()"
      ],
      "metadata": {
        "colab": {
          "base_uri": "https://localhost:8080/"
        },
        "id": "HdTU3k86oUen",
        "outputId": "96ec7a35-3641-4775-c458-99d672a4572d"
      },
      "execution_count": null,
      "outputs": [
        {
          "output_type": "stream",
          "name": "stdout",
          "text": [
            "Precision is : 0.566554170993422\n",
            "Recall is : 0.2014233086674809\n"
          ]
        }
      ]
    }
  ]
}