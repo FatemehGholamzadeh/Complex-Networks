{
  "nbformat": 4,
  "nbformat_minor": 0,
  "metadata": {
    "colab": {
      "name": "6.ipynb",
      "provenance": [],
      "collapsed_sections": [],
      "toc_visible": true
    },
    "kernelspec": {
      "name": "python3",
      "display_name": "Python 3"
    },
    "language_info": {
      "name": "python"
    }
  },
  "cells": [
    {
      "cell_type": "code",
      "metadata": {
        "colab": {
          "base_uri": "https://localhost:8080/"
        },
        "id": "YtwtC8elwNoU",
        "outputId": "4f47e42f-1c94-4663-8031-91a2dbc15b68"
      },
      "source": [
        "from google.colab import drive\n",
        "drive.mount('/content/drive')"
      ],
      "execution_count": 1,
      "outputs": [
        {
          "output_type": "stream",
          "name": "stdout",
          "text": [
            "Mounted at /content/drive\n"
          ]
        }
      ]
    },
    {
      "cell_type": "code",
      "metadata": {
        "id": "OlsNc7IATTFW"
      },
      "source": [
        "import numpy as np\n",
        "import time\n",
        "import time\n",
        "import scipy.io"
      ],
      "execution_count": 7,
      "outputs": []
    },
    {
      "cell_type": "markdown",
      "metadata": {
        "id": "YNBItXRr8x5v"
      },
      "source": [
        "# function definitions"
      ]
    },
    {
      "cell_type": "code",
      "metadata": {
        "id": "AiQ_48lBTWIW"
      },
      "source": [
        "def build_matrix(dataset, size_matrix):\n",
        "    result = np.zeros([size_matrix, size_matrix])\n",
        "    A = open(dataset, encoding='utf-8')\n",
        "    for line in A:\n",
        "        text = line.split()\n",
        "        result[int(text[0]), int(text[1])] = abs(float(text[2]))\n",
        "    return result"
      ],
      "execution_count": 8,
      "outputs": []
    },
    {
      "cell_type": "code",
      "metadata": {
        "id": "UGpht6Q3TXkc"
      },
      "source": [
        "def change_MAT_to_TXT(input_file, output_file):\n",
        "    mat = scipy.io.loadmat(input_file)\n",
        "    A = mat.__getitem__('A')\n",
        "    file = open(output_file, 'w')\n",
        "    for i in range(A.shape[0]):\n",
        "        for j in A[i].nonzero()[1]:\n",
        "            file.write(str(i) + ' ' + str(j) + ' ' + str(A[i, j]) + '\\n')\n",
        "    file.close()"
      ],
      "execution_count": 9,
      "outputs": []
    },
    {
      "cell_type": "code",
      "metadata": {
        "id": "SdImm0wzTa5u"
      },
      "source": [
        "def build_probable_matrices(adjacency_matrix, mc, p):\n",
        "    list_m = []\n",
        "    for x in range(mc):\n",
        "        temp = np.array(adjacency_matrix)\n",
        "        for i in range(num_node):\n",
        "            indexes = np.nonzero(temp[i])\n",
        "            for j in indexes[0]:\n",
        "                if j >= i :\n",
        "                    temp[i, j] = np.random.uniform(0, 1, 1)[0] < p\n",
        "                    temp[j,i] = temp[i,j]\n",
        "        list_m.append(temp)\n",
        "    return list_m"
      ],
      "execution_count": 10,
      "outputs": []
    },
    {
      "cell_type": "code",
      "metadata": {
        "id": "O6NTV45OTesk"
      },
      "source": [
        "# this function return out neighbor of node\n",
        "def get_neighbor(g, node):\n",
        "    neighbor = np.nonzero(g[node])\n",
        "    if not neighbor: return []\n",
        "    return np.nonzero(g[node])[0]"
      ],
      "execution_count": 11,
      "outputs": []
    },
    {
      "cell_type": "code",
      "metadata": {
        "id": "yttn3h5_TjSg"
      },
      "source": [
        "# this function compute Spread if S set over all graph in list_g\n",
        "def IC(list_g, S):\n",
        "    spread = []\n",
        "    for i in range(len(list_g)):\n",
        "        g = list_g[i]\n",
        "        new_active, A = S[:], S[:]\n",
        "        while new_active:\n",
        "            new_ones = []\n",
        "            for node in new_active:\n",
        "                new_ones += list(get_neighbor(g, node))\n",
        "            new_active = list(set(new_ones) - set(A))\n",
        "            A += new_active\n",
        "        spread.append(len(A))\n",
        "    return np.mean(spread)"
      ],
      "execution_count": 12,
      "outputs": []
    },
    {
      "cell_type": "code",
      "metadata": {
        "id": "0XVAZNbJTlmO"
      },
      "source": [
        "def IC1(list_g, S):\n",
        "    score = 0\n",
        "    for g in list_g:\n",
        "        neighbor = []\n",
        "        for s in S:\n",
        "            neighbor.extend(get_neighbor(g,s))\n",
        "        score += len(list(set(neighbor)))\n",
        "    score /= len(list_g)\n",
        "    return score"
      ],
      "execution_count": 13,
      "outputs": []
    },
    {
      "cell_type": "code",
      "metadata": {
        "id": "cE2QgzNYToOq"
      },
      "source": [
        "# this function compute mean cost of S set in all realization\n",
        "# in this implementation cost = sigma over weight of edges in S\n",
        "def cost(S, list_g):\n",
        "    temp = []\n",
        "    for s in S:\n",
        "        temp.append(adjacency_matrix[s])\n",
        "    temp = np.array(temp)\n",
        "    cost = 0\n",
        "    for g in list_g:\n",
        "        temp1 = []\n",
        "        for s in S:\n",
        "            temp1.append(g[s])\n",
        "        temp1 = np.array(temp1)\n",
        "        temp2 = np.multiply(temp1, temp)\n",
        "        cost += sum(sum(temp2))\n",
        "    if cost == 0: cost += 1\n",
        "    return cost / len(list_g)"
      ],
      "execution_count": 14,
      "outputs": []
    },
    {
      "cell_type": "code",
      "metadata": {
        "id": "0ov-vD0MwcyU"
      },
      "source": [
        "# this function run \"lazy hill climbing\" Idea to speed up computing marginal gane\n",
        "def lazy_hill_climbing(g, unitCost_or_benefitRatio):\n",
        "    global save_IC_1\n",
        "    if unitCost_or_benefitRatio:  # unit cost version :\n",
        "        marg_gain = [IC1(g, [node]) for node in range(num_node)]\n",
        "        save_IC_1 = marg_gain\n",
        "    else:  # benefit ration version :\n",
        "        marg_gain = [save_IC_1[node] / cost([node], g) for node in range(num_node)]\n",
        "    Q = sorted(zip(range(num_node), marg_gain), key=lambda x: x[1], reverse=True)\n",
        "    S , s = [Q[0][0]] , Q[0][1]\n",
        "    c = cost(S,g)\n",
        "    if not unitCost_or_benefitRatio :\n",
        "        SPREAD = c\n",
        "    else : SPREAD = 1\n",
        "    SPREAD = SPREAD * Q[0][1]\n",
        "    print( str(Q[0][0]) + \" :, Spread = \" + str(SPREAD)+\" , cost = \"+str(c))\n",
        "    Q = Q[1:]\n",
        "    flag = True\n",
        "    counter_s = 1\n",
        "    while flag:\n",
        "        check = False\n",
        "        while not check:\n",
        "            current = Q[0][0]\n",
        "            if unitCost_or_benefitRatio:  # unit cost version :\n",
        "                Q[0] = (current, IC1(g, S + [current])-s)\n",
        "            else:  # benefit ratio version :\n",
        "                Q[0] = (current, (IC1(g, S + [current]) / cost(S + [current], g))-s)\n",
        "            Q = sorted(Q, key=lambda x: x[1], reverse=True)\n",
        "            check = (Q[0][0] == current)\n",
        "        c = cost(S + [Q[0][0]], g)\n",
        "        temp = Q[0][1]\n",
        "        temp+=s\n",
        "        if unitCost_or_benefitRatio:\n",
        "            temp /= c\n",
        "        if 0.3 * (temp) > 1:\n",
        "            SPREAD = temp * c\n",
        "            s+= Q[0][1]\n",
        "            S.append(Q[0][0])\n",
        "            counter_s += 1\n",
        "            print(str(Q[0][0]) + \" :, spread = \"+str(SPREAD)+\" , cost = \"+str(c))\n",
        "            Q = Q[1:]\n",
        "        else:\n",
        "            NSPREAD = temp * c\n",
        "            print(\"not add \"+ str(Q[0][0]) + \" :, spread = \"+str(NSPREAD)+\" , cost = \"+str(c))\n",
        "            flag = False\n",
        "    return S, SPREAD"
      ],
      "execution_count": 21,
      "outputs": []
    },
    {
      "cell_type": "code",
      "metadata": {
        "id": "boG16cLrTtdK"
      },
      "source": [
        "# this function run \"cost-effective lazy-forward selection\" algorithm\n",
        "# unitCost_or_benefitRatio is a flag to change marginal gane to have theoretically guarantee\n",
        "def CELF(g):\n",
        "    start_time = time.time()\n",
        "    print(\" ********************** unit cost ********************** \")\n",
        "    S_unit, SPREAD_unit = lazy_hill_climbing(g, True)  # unit cost obj. func.\n",
        "    time_unit_cost = [time.time() - start_time]\n",
        "    print(\"********************** unit-cost finished ********************** \")\n",
        "    print(\"time unit-cost = \" + str(time_unit_cost))\n",
        "    start_time2 = time.time()\n",
        "    print(\"********************** benefit Ratio **********************\")\n",
        "    S_benefit, SPREAD_benefit = lazy_hill_climbing(g, False)  # benefit Ratio obj. func.\n",
        "    time_benefit_ratio = [time.time() - start_time2]\n",
        "    print(\"********************************* benefit-ratio finished *********************************\")\n",
        "    print()\n",
        "    print()\n",
        "    print(\"time benefit-ratio = \" + str(time_benefit_ratio))\n",
        "    if SPREAD_benefit > SPREAD_unit:\n",
        "        S = S_benefit\n",
        "        spread = SPREAD_benefit\n",
        "    else:\n",
        "        S = S_unit\n",
        "        spread = SPREAD_unit\n",
        "    final_time = [time.time() - start_time]\n",
        "    return S, spread, final_time"
      ],
      "execution_count": 25,
      "outputs": []
    },
    {
      "cell_type": "markdown",
      "metadata": {
        "id": "e8uv5I8583SX"
      },
      "source": [
        "# load data"
      ]
    },
    {
      "cell_type": "code",
      "metadata": {
        "id": "-QHVno9UwYdx"
      },
      "source": [
        "# load file\n",
        "input_file = '/content/drive/MyDrive/CN/facebook101_princton_weighted.mat'\n",
        "txt_input_file = '/content/drive/MyDrive/CN/dataset.txt'\n",
        "# change_MAT_to_TXT(input_file, txt_input_file)"
      ],
      "execution_count": 3,
      "outputs": []
    },
    {
      "cell_type": "code",
      "metadata": {
        "colab": {
          "base_uri": "https://localhost:8080/"
        },
        "id": "p-OMFGfi1ZL_",
        "outputId": "8bfd8118-c04d-4d14-c275-edfaac3283df"
      },
      "source": [
        "num_node = 6596\n",
        "adjacency_matrix = build_matrix(txt_input_file, num_node)\n",
        "print(\"read input file and convert to matrix\")"
      ],
      "execution_count": 4,
      "outputs": [
        {
          "output_type": "stream",
          "name": "stdout",
          "text": [
            "read input file and convert to matrix\n"
          ]
        }
      ]
    },
    {
      "cell_type": "markdown",
      "metadata": {
        "id": "bqKalRr_87uv"
      },
      "source": [
        "# generate realizations and run CELF"
      ]
    },
    {
      "cell_type": "code",
      "metadata": {
        "colab": {
          "base_uri": "https://localhost:8080/"
        },
        "id": "Xgqh5F8G1xdA",
        "outputId": "74cdd3be-ae67-49b6-e47f-62ec52c59207"
      },
      "source": [
        "# genetate realization\n",
        "num_realization = 20\n",
        "list_realization = build_probable_matrices(adjacency_matrix, mc=num_realization, p=0.1)\n",
        "print(\"generate \" + str(num_realization) + \" realization successfully\")"
      ],
      "execution_count": 19,
      "outputs": [
        {
          "output_type": "stream",
          "name": "stdout",
          "text": [
            "generate 20 realization successfully\n"
          ]
        }
      ]
    },
    {
      "cell_type": "code",
      "metadata": {
        "colab": {
          "base_uri": "https://localhost:8080/"
        },
        "id": "LePQ9NJX11u1",
        "outputId": "9a70ad7d-1e55-46eb-e64d-277079ff29d4"
      },
      "source": [
        "# Run CELF\n",
        "print(\"start running CELF...\")\n",
        "save_IC_1 = []\n",
        "S, spread, t = CELF(list_realization)\n",
        "print(\"<----------------result CELF Algorithm ----------------->\")\n",
        "print(\"celf output =  \" + str(S))\n",
        "print(\"mean spread value = \" + str(spread))\n",
        "print(\"run time = \" + str(t[0]))"
      ],
      "execution_count": 26,
      "outputs": [
        {
          "output_type": "stream",
          "name": "stdout",
          "text": [
            "start running CELF...\n",
            " ********************** unit cost ********************** \n",
            "412 :, Spread = 64.4 , cost = 32.35836875545478\n",
            "not add 4894 :, spread = 123.95 , cost = 62.30934066977439\n",
            "********************** unit-cost finished ********************** \n",
            "time unit-cost = [9.91211485862732]\n",
            "********************** benefit Ratio **********************\n",
            "556 :, Spread = 0.15 , cost = 0.0002865636346880973\n",
            "369 :, spread = 0.15 , cost = 0.0002865636346880973\n",
            "390 :, spread = 0.15 , cost = 0.0002865636346880973\n",
            "504 :, spread = 0.15 , cost = 0.0002865636346880973\n",
            "664 :, spread = 0.15 , cost = 0.0002865636346880973\n",
            "755 :, spread = 0.15 , cost = 0.0002865636346880973\n",
            "1036 :, spread = 0.15 , cost = 0.0002865636346880973\n",
            "1231 :, spread = 0.15 , cost = 0.0002865636346880973\n",
            "1754 :, spread = 0.15 , cost = 0.0002865636346880973\n",
            "2030 :, spread = 0.15 , cost = 0.0002865636346880973\n",
            "2184 :, spread = 0.15 , cost = 0.0002865636346880973\n",
            "2517 :, spread = 0.15 , cost = 0.0002865636346880973\n",
            "2693 :, spread = 0.15 , cost = 0.0002865636346880973\n",
            "2750 :, spread = 0.15 , cost = 0.0002865636346880973\n",
            "2786 :, spread = 0.15 , cost = 0.0002865636346880973\n",
            "3130 :, spread = 0.15 , cost = 0.0002865636346880973\n",
            "3366 :, spread = 0.15 , cost = 0.0002865636346880973\n",
            "3472 :, spread = 0.15 , cost = 0.0002865636346880973\n",
            "3902 :, spread = 0.15 , cost = 0.0002865636346880973\n",
            "4378 :, spread = 0.15 , cost = 0.0002865636346880973\n",
            "4620 :, spread = 0.15 , cost = 0.0002865636346880973\n",
            "4629 :, spread = 0.15 , cost = 0.0002865636346880973\n",
            "4700 :, spread = 0.15 , cost = 0.0002865636346880973\n",
            "5730 :, spread = 0.15 , cost = 0.0002865636346880973\n",
            "6164 :, spread = 0.15 , cost = 0.0002865636346880973\n",
            "6343 :, spread = 0.15 , cost = 0.0002865636346880973\n",
            "6356 :, spread = 0.15 , cost = 0.0002865636346880973\n",
            "2378 :, spread = 0.2 , cost = 0.0007916165575395428\n",
            "4303 :, spread = 0.3 , cost = 0.0017135626763095102\n",
            "4481 :, spread = 0.35000000000000003 , cost = 0.0024585618629997972\n",
            "675 :, spread = 0.4 , cost = 0.0032138633060249887\n",
            "3733 :, spread = 0.45 , cost = 0.004086311164792222\n",
            "4853 :, spread = 0.55 , cost = 0.005533599369361453\n",
            "4668 :, spread = 0.6 , cost = 0.0067866036022209645\n",
            "5416 :, spread = 0.7 , cost = 0.008510661197564473\n",
            "624 :, spread = 0.85 , cost = 0.010994205139267433\n",
            "5720 :, spread = 0.95 , cost = 0.013137335860521326\n",
            "6360 :, spread = 1.15 , cost = 0.016851421788984956\n",
            "2478 :, spread = 1.25 , cost = 0.01966723559418391\n",
            "2367 :, spread = 1.3 , cost = 0.02231731303053731\n",
            "3888 :, spread = 1.35 , cost = 0.025013519122328763\n",
            "5251 :, spread = 1.4 , cost = 0.02799868267626606\n",
            "4089 :, spread = 1.45 , cost = 0.031180942945277245\n",
            "2689 :, spread = 1.7 , cost = 0.039711824577143354\n",
            "3450 :, spread = 1.95 , cost = 0.04834941298044522\n",
            "4909 :, spread = 2.05 , cost = 0.053795935327768205\n",
            "2885 :, spread = 2.1 , cost = 0.058794172184808216\n",
            "3493 :, spread = 2.15 , cost = 0.06441284206437976\n",
            "1385 :, spread = 2.2 , cost = 0.07030484960549505\n",
            "3109 :, spread = 2.3 , cost = 0.07816853701464697\n",
            "3253 :, spread = 2.4 , cost = 0.0864784190761349\n",
            "5808 :, spread = 2.5 , cost = 0.09647540964835868\n",
            "1241 :, spread = 2.65 , cost = 0.10943397195460498\n",
            "1557 :, spread = 2.75 , cost = 0.12020619954073322\n",
            "5810 :, spread = 2.85 , cost = 0.13102425935359102\n",
            "2799 :, spread = 2.95 , cost = 0.14214632178706196\n",
            "126 :, spread = 3.05 , cost = 0.15348385820659424\n",
            "357 :, spread = 3.2 , cost = 0.16756332192441406\n",
            "1871 :, spread = 3.3499999999999996 , cost = 0.1820993287878349\n",
            "2859 :, spread = 3.6 , cost = 0.20216546704573785\n",
            "5588 :, spread = 3.7 , cost = 0.21476485794683323\n",
            "6451 :, spread = 3.85 , cost = 0.2303843610540386\n",
            "4082 :, spread = 3.9 , cost = 0.24124211817810562\n",
            "4581 :, spread = 3.95 , cost = 0.25232733749167313\n",
            "3639 :, spread = 4.05 , cost = 0.26776643039011516\n",
            "1269 :, spread = 4.35 , cost = 0.2965719685378579\n",
            "980 :, spread = 4.45 , cost = 0.3131635923304839\n",
            "1540 :, spread = 4.55 , cost = 0.3307949014261399\n",
            "1116 :, spread = 4.6 , cost = 0.3448960206056526\n",
            "4767 :, spread = 4.7 , cost = 0.3625973754329487\n",
            "5411 :, spread = 4.75 , cost = 0.3770189441940321\n",
            "2443 :, spread = 4.85 , cost = 0.3951625775042748\n",
            "5675 :, spread = 4.95 , cost = 0.4135693895238332\n",
            "2476 :, spread = 5.1 , cost = 0.43606610133704765\n",
            "2624 :, spread = 5.2 , cost = 0.4561895210522728\n",
            "5061 :, spread = 5.3 , cost = 0.4763515973463737\n",
            "5700 :, spread = 5.4 , cost = 0.4967330618139309\n",
            "4749 :, spread = 5.55 , cost = 0.5213866772554342\n",
            "1027 :, spread = 5.65 , cost = 0.5419833506681608\n",
            "3217 :, spread = 5.8 , cost = 0.5670501776655021\n",
            "5811 :, spread = 5.85 , cost = 0.5837599082091041\n",
            "3955 :, spread = 6.1499999999999995 , cost = 0.6218886463857931\n",
            "2673 :, spread = 6.2 , cost = 0.6389283380847154\n",
            "5850 :, spread = 6.300000000000001 , cost = 0.6603020603997685\n",
            "2710 :, spread = 6.45 , cost = 0.6862303873936723\n",
            "6580 :, spread = 6.7 , cost = 0.720948004311135\n",
            "2475 :, spread = 6.95 , cost = 0.7560931937894632\n",
            "4021 :, spread = 7.1 , cost = 0.7831903967325273\n",
            "4468 :, spread = 7.4 , cost = 0.8244712744543907\n",
            "3663 :, spread = 7.6499999999999995 , cost = 0.8614294209123532\n",
            "3302 :, spread = 7.949999999999999 , cost = 0.9032254718490599\n",
            "5419 :, spread = 8.05 , cost = 0.926499071348822\n",
            "2645 :, spread = 8.15 , cost = 0.9501950139239355\n",
            "4901 :, spread = 8.2 , cost = 0.9693402397098356\n",
            "336 :, spread = 8.35 , cost = 0.9982836123060335\n",
            "478 :, spread = 8.45 , cost = 1.0224226499952007\n",
            "890 :, spread = 8.6 , cost = 1.0514728111716676\n",
            "3752 :, spread = 8.75 , cost = 1.081861224744851\n",
            "3967 :, spread = 8.9 , cost = 1.1124907205991625\n",
            "3018 :, spread = 9.05 , cost = 1.1433220864669695\n",
            "3795 :, spread = 9.2 , cost = 1.1743028106058204\n",
            "1123 :, spread = 9.4 , cost = 1.2107449254926006\n",
            "5332 :, spread = 9.6 , cost = 1.247273409784795\n",
            "4227 :, spread = 9.8 , cost = 1.2923957168134126\n",
            "6278 :, spread = 9.85 , cost = 1.3148288900578642\n",
            "5614 :, spread = 10.2 , cost = 1.371398620643196\n",
            "4096 :, spread = 10.3 , cost = 1.399937146497613\n",
            "231 :, spread = 10.5 , cost = 1.4400944896006462\n",
            "4852 :, spread = 10.75 , cost = 1.487609008136284\n",
            "3195 :, spread = 10.8 , cost = 1.511469827092865\n",
            "6063 :, spread = 11.05 , cost = 1.5605550299883082\n",
            "1040 :, spread = 11.25 , cost = 1.6096653687352709\n",
            "4705 :, spread = 11.3 , cost = 1.6341626160120761\n",
            "1789 :, spread = 11.45 , cost = 1.6718111559248126\n",
            "3897 :, spread = 11.5 , cost = 1.6968966906523804\n",
            "6255 :, spread = 11.75 , cost = 1.747530373806729\n",
            "6036 :, spread = 11.8 , cost = 1.7727261403863335\n",
            "2171 :, spread = 11.95 , cost = 1.8107136949786742\n",
            "3058 :, spread = 12.0 , cost = 1.8360678225450418\n",
            "2943 :, spread = 12.05 , cost = 1.8615875278227487\n",
            "3290 :, spread = 12.15 , cost = 1.8935776221755098\n",
            "2520 :, spread = 12.2 , cost = 1.919527358168559\n",
            "3395 :, spread = 12.35 , cost = 1.9588411985563858\n",
            "4595 :, spread = 12.45 , cost = 1.991900341477508\n",
            "1046 :, spread = 12.55 , cost = 2.0255030752504855\n",
            "6055 :, spread = 12.65 , cost = 2.059264828311048\n",
            "5781 :, spread = 12.85 , cost = 2.1085945362260845\n",
            "1316 :, spread = 13.05 , cost = 2.1583741423781637\n",
            "4314 :, spread = 13.25 , cost = 2.208199495678465\n",
            "661 :, spread = 13.3 , cost = 2.236867929858409\n",
            "5230 :, spread = 13.35 , cost = 2.2656498332752855\n",
            "3163 :, spread = 13.7 , cost = 2.338249118356962\n",
            "5399 :, spread = 13.75 , cost = 2.3673316228167387\n",
            "855 :, spread = 13.75 , cost = 2.396470325018667\n",
            "4878 :, spread = 14.15 , cost = 2.485155337222958\n",
            "5120 :, spread = 14.55 , cost = 2.566898254474572\n",
            "2402 :, spread = 14.600000000000001 , cost = 2.5965997010966206\n",
            "1396 :, spread = 14.8 , cost = 2.6487986590396635\n",
            "6005 :, spread = 14.95 , cost = 2.693855916385064\n",
            "1197 :, spread = 15.15 , cost = 2.74672306807355\n",
            "2186 :, spread = 15.4 , cost = 2.8077242393714585\n",
            "629 :, spread = 15.45 , cost = 2.8381836748248714\n",
            "4320 :, spread = 15.5 , cost = 2.868802934828536\n",
            "4582 :, spread = 15.7 , cost = 2.930457750018846\n",
            "850 :, spread = 16.05 , cost = 3.0081290793734237\n",
            "2331 :, spread = 16.3 , cost = 3.070343436991795\n",
            "1328 :, spread = 16.45 , cost = 3.1173599955362166\n",
            "2715 :, spread = 16.8 , cost = 3.1960643310436905\n",
            "4075 :, spread = 16.9 , cost = 3.235594070999801\n",
            "3406 :, spread = 17.45 , cost = 3.346835181905579\n",
            "5337 :, spread = 17.55 , cost = 3.3866144321364287\n",
            "3093 :, spread = 17.6 , cost = 3.4184628616475465\n",
            "2523 :, spread = 17.75 , cost = 3.4664578087939395\n",
            "109 :, spread = 18.2 , cost = 3.5628921416164117\n",
            "754 :, spread = 18.4 , cost = 3.619284901269519\n",
            "5098 :, spread = 18.75 , cost = 3.700689365941469\n",
            "2471 :, spread = 18.85 , cost = 3.7494912701585954\n",
            "2977 :, spread = 19.15 , cost = 3.822888517549341\n",
            "2017 :, spread = 19.3 , cost = 3.8717996855879933\n",
            "4421 :, spread = 19.55 , cost = 3.9372061975369137\n",
            "6279 :, spread = 19.65 , cost = 3.978387156872651\n",
            "5099 :, spread = 19.85 , cost = 4.03621868308246\n",
            "577 :, spread = 20.15 , cost = 4.11065582713138\n",
            "2834 :, spread = 20.4 , cost = 4.176793449997474\n",
            "4389 :, spread = 20.55 , cost = 4.226392977186026\n",
            "2902 :, spread = 20.7 , cost = 4.276524492438174\n",
            "2274 :, spread = 20.8 , cost = 4.318361463458197\n",
            "3677 :, spread = 21.0 , cost = 4.37721111111783\n",
            "3438 :, spread = 21.25 , cost = 4.445356379621477\n",
            "5897 :, spread = 21.45 , cost = 4.505157656087872\n",
            "2822 :, spread = 21.65 , cost = 4.565101105349954\n",
            "593 :, spread = 22.25 , cost = 4.702691802885168\n",
            "4011 :, spread = 22.35 , cost = 4.745634232488138\n",
            "923 :, spread = 22.4 , cost = 4.780003866065889\n",
            "2871 :, spread = 22.45 , cost = 4.814400716737228\n",
            "3798 :, spread = 22.650000000000002 , cost = 4.874838560381025\n",
            "1371 :, spread = 23.099999999999998 , cost = 4.979383059684722\n",
            "200 :, spread = 23.4 , cost = 5.057873298320574\n",
            "4961 :, spread = 23.499999999999996 , cost = 5.1015712729035\n",
            "2390 :, spread = 23.85 , cost = 5.189652487044912\n",
            "3698 :, spread = 24.050000000000004 , cost = 5.251296787995842\n",
            "6257 :, spread = 24.2 , cost = 5.30440261086863\n",
            "2753 :, spread = 24.950000000000003 , cost = 5.474389010671258\n",
            "2768 :, spread = 25.3 , cost = 5.563895356424609\n",
            "1677 :, spread = 25.45 , cost = 5.617487093884081\n",
            "5290 :, spread = 25.55 , cost = 5.662170092297412\n",
            "5816 :, spread = 25.650000000000002 , cost = 5.70688220829537\n",
            "5520 :, spread = 25.8 , cost = 5.760746642339564\n",
            "4835 :, spread = 26.05 , cost = 5.832878976526257\n",
            "1346 :, spread = 26.5 , cost = 5.942022564576625\n",
            "5087 :, spread = 26.55 , cost = 5.978261497697032\n",
            "1610 :, spread = 26.65 , cost = 6.024665548333369\n",
            "6075 :, spread = 26.8 , cost = 6.0806350665054\n",
            "1808 :, spread = 26.9 , cost = 6.127341149994569\n",
            "1875 :, spread = 26.95 , cost = 6.164920114135246\n",
            "3244 :, spread = 27.349999999999998 , cost = 6.26910362242468\n",
            "4883 :, spread = 27.449999999999996 , cost = 6.316550860239547\n",
            "1104 :, spread = 27.5 , cost = 6.354538371024916\n",
            "4744 :, spread = 27.6 , cost = 6.402273748548261\n",
            "1264 :, spread = 27.65 , cost = 6.4409654534222796\n",
            "4428 :, spread = 28.1 , cost = 6.55781102162228\n",
            "1765 :, spread = 28.200000000000003 , cost = 6.61652768812291\n",
            "358 :, spread = 28.25 , cost = 6.655611141178279\n",
            "1786 :, spread = 28.699999999999996 , cost = 6.77402717327301\n",
            "780 :, spread = 28.900000000000002 , cost = 6.8431871214314555\n",
            "3783 :, spread = 29.35 , cost = 6.962123944575511\n",
            "2537 :, spread = 29.399999999999995 , cost = 7.002494550222494\n",
            "5024 :, spread = 29.499999999999996 , cost = 7.053111676361856\n",
            "904 :, spread = 29.549999999999997 , cost = 7.093559580703229\n",
            "3038 :, spread = 30.05 , cost = 7.225967312883391\n",
            "170 :, spread = 30.100000000000005 , cost = 7.266547515056774\n",
            "2935 :, spread = 30.25 , cost = 7.327571624218919\n",
            "1317 :, spread = 30.399999999999995 , cost = 7.388702212873137\n",
            "764 :, spread = 30.95 , cost = 7.532017648274741\n",
            "2867 :, spread = 31.199999999999996 , cost = 7.615108620901372\n",
            "5494 :, spread = 31.8 , cost = 7.77118124783347\n",
            "6241 :, spread = 32.15 , cost = 7.875284620779617\n",
            "1758 :, spread = 32.25 , cost = 7.927351688166264\n",
            "5725 :, spread = 32.3 , cost = 7.969026497491977\n",
            "1012 :, spread = 32.9 , cost = 8.126137041381536\n",
            "549 :, spread = 33.4 , cost = 8.262285744702446\n",
            "2502 :, spread = 33.65 , cost = 8.34597224480552\n",
            "6350 :, spread = 34.15 , cost = 8.482170853966178\n",
            "5874 :, spread = 34.2 , cost = 8.523938911041444\n",
            "6071 :, spread = 34.25 , cost = 8.565730688598094\n",
            "758 :, spread = 34.5 , cost = 8.649664521909656\n",
            "4429 :, spread = 35.25 , cost = 8.838925973921189\n",
            "22 :, spread = 35.4 , cost = 8.912938090538038\n",
            "2007 :, spread = 35.55 , cost = 8.976572383319562\n",
            "2538 :, spread = 35.6 , cost = 9.019213068376121\n",
            "6115 :, spread = 35.7 , cost = 9.072679819649192\n",
            "720 :, spread = 36.0 , cost = 9.179923556284134\n",
            "1367 :, spread = 36.6 , cost = 9.340950700528456\n",
            "3528 :, spread = 36.65 , cost = 9.383706798529001\n",
            "5577 :, spread = 36.9 , cost = 9.46961365787546\n",
            "5301 :, spread = 37.0 , cost = 9.52322997934318\n",
            "2707 :, spread = 37.45 , cost = 9.652537870258518\n",
            "4217 :, spread = 38.05 , cost = 9.815209043632905\n",
            "2775 :, spread = 39.3 , cost = 10.11916256623166\n",
            "3435 :, spread = 40.05 , cost = 10.31481458095384\n",
            "1823 :, spread = 40.25 , cost = 10.390915323687079\n",
            "5859 :, spread = 41.25 , cost = 10.643024643650836\n",
            "4662 :, spread = 42.0 , cost = 10.840923650156721\n",
            "1704 :, spread = 42.1 , cost = 10.906747898790412\n",
            "3090 :, spread = 42.45 , cost = 11.028843399536282\n",
            "2987 :, spread = 42.5 , cost = 11.073080707159038\n",
            "3876 :, spread = 43.1 , cost = 11.24104331369732\n",
            "1016 :, spread = 43.75 , cost = 11.420346403633726\n",
            "5579 :, spread = 43.95 , cost = 11.499887153188203\n",
            "873 :, spread = 44.2 , cost = 11.591145673190578\n",
            "3600 :, spread = 44.75 , cost = 11.751092695106236\n",
            "4994 :, spread = 45.25 , cost = 11.911183582177095\n",
            "1930 :, spread = 45.3 , cost = 11.968224672696685\n",
            "335 :, spread = 45.55 , cost = 12.059959417371315\n",
            "3785 :, spread = 45.8 , cost = 12.163330163648554\n",
            "2514 :, spread = 46.0 , cost = 12.244155772649899\n",
            "2229 :, spread = 46.15 , cost = 12.31356854551125\n",
            "3646 :, spread = 46.5 , cost = 12.430183449985027\n",
            "2679 :, spread = 46.7 , cost = 12.511750418017899\n",
            "4129 :, spread = 46.9 , cost = 12.593322486241892\n",
            "5135 :, spread = 47.45 , cost = 12.757303076999161\n",
            "6465 :, spread = 48.05 , cost = 12.933080873614774\n",
            "2709 :, spread = 48.15 , cost = 13.003236130929645\n",
            "728 :, spread = 48.5 , cost = 13.120495227066186\n",
            "4522 :, spread = 49.6 , cost = 13.414124559665979\n",
            "5848 :, spread = 50.5 , cost = 13.660746418702109\n",
            "2708 :, spread = 50.75 , cost = 13.76674985351428\n",
            "161 :, spread = 51.5 , cost = 13.979523364562073\n",
            "1809 :, spread = 51.6 , cost = 14.038539235492198\n",
            "4698 :, spread = 51.65 , cost = 14.085739899282649\n",
            "2085 :, spread = 51.7 , cost = 14.145207462595963\n",
            "3918 :, spread = 52.75 , cost = 14.432082742802644\n",
            "1402 :, spread = 54.15 , cost = 14.803636371258841\n",
            "1835 :, spread = 54.2 , cost = 14.851382190820075\n",
            "4990 :, spread = 54.25 , cost = 14.899138789007111\n",
            "1845 :, spread = 54.85 , cost = 15.091232346326057\n",
            "2928 :, spread = 54.9 , cost = 15.139069878051256\n",
            "3717 :, spread = 54.9 , cost = 15.187003578559274\n",
            "4634 :, spread = 55.05 , cost = 15.259340798232012\n",
            "4832 :, spread = 56.35 , cost = 15.61137188619738\n",
            "3804 :, spread = 56.45 , cost = 15.671919668909705\n",
            "5005 :, spread = 57.0 , cost = 15.842038404375439\n",
            "5744 :, spread = 57.4 , cost = 15.976278334167949\n",
            "4239 :, spread = 57.75 , cost = 16.111106858060214\n",
            "1826 :, spread = 58.1 , cost = 16.233913212017278\n",
            "6363 :, spread = 58.3 , cost = 16.319974674546273\n",
            "1443 :, spread = 58.45 , cost = 16.393744222852195\n",
            "584 :, spread = 58.65 , cost = 16.4801394380684\n",
            "3801 :, spread = 59.3 , cost = 16.678624647909096\n",
            "2620 :, spread = 59.4 , cost = 16.74058223267888\n",
            "773 :, spread = 60.45 , cost = 17.04018651073087\n",
            "6332 :, spread = 60.95 , cost = 17.203274339169578\n",
            "4133 :, spread = 61.95 , cost = 17.492176456580296\n",
            "4128 :, spread = 62.1 , cost = 17.580232201912395\n",
            "445 :, spread = 62.85 , cost = 17.807670481640802\n",
            "5717 :, spread = 63.5 , cost = 18.035912353489863\n",
            "5309 :, spread = 63.85 , cost = 18.16271044312776\n",
            "4993 :, spread = 64.0 , cost = 18.23876429624695\n",
            "3183 :, spread = 64.5 , cost = 18.40393266534817\n",
            "5179 :, spread = 64.75 , cost = 18.50553843335924\n",
            "363 :, spread = 66.05 , cost = 18.90159545385073\n",
            "646 :, spread = 66.3 , cost = 19.003759754558278\n",
            "3786 :, spread = 66.7 , cost = 19.1445900214598\n",
            "5707 :, spread = 66.95 , cost = 19.24701905394045\n",
            "1229 :, spread = 68.15 , cost = 19.593576330997372\n",
            "414 :, spread = 68.35 , cost = 19.683247064671\n",
            "3747 :, spread = 69.2 , cost = 19.940261221577142\n",
            "6374 :, spread = 69.4 , cost = 20.03054602437505\n",
            "2418 :, spread = 70.55 , cost = 20.380216564653374\n",
            "2112 :, spread = 70.9 , cost = 20.509794795200865\n",
            "2508 :, spread = 71.1 , cost = 20.6004406928729\n",
            "6493 :, spread = 71.2 , cost = 20.66513276021687\n",
            "4039 :, spread = 71.45 , cost = 20.768919787347098\n",
            "5205 :, spread = 72.25 , cost = 21.017447155102253\n",
            "6294 :, spread = 72.95 , cost = 21.239960819005145\n",
            "2889 :, spread = 73.1 , cost = 21.318618259463697\n",
            "4238 :, spread = 73.85 , cost = 21.56835387345903\n",
            "5985 :, spread = 74.35 , cost = 21.766302010355002\n",
            "5555 :, spread = 74.75 , cost = 21.924769137564038\n",
            "6240 :, spread = 75.0 , cost = 22.03051512332814\n",
            "3948 :, spread = 75.1 , cost = 22.096614571160927\n",
            "2580 :, spread = 75.5 , cost = 22.242380610104746\n",
            "3232 :, spread = 76.1 , cost = 22.46795967050245\n",
            "2730 :, spread = 76.9 , cost = 22.73481155632077\n",
            "3191 :, spread = 78.25 , cost = 23.13777852893147\n",
            "4619 :, spread = 78.65 , cost = 23.285403543253928\n",
            "4019 :, spread = 78.9 , cost = 23.3927198634216\n",
            "2389 :, spread = 79.3 , cost = 23.54064548950307\n",
            "5915 :, spread = 81.25 , cost = 24.120160487680543\n",
            "6089 :, spread = 82.05 , cost = 24.37634522449168\n",
            "4414 :, spread = 82.9 , cost = 24.64674464367404\n",
            "879 :, spread = 83.0 , cost = 24.71420355327032\n",
            "389 :, spread = 83.25 , cost = 24.822444172323607\n",
            "1173 :, spread = 83.4 , cost = 24.90358202256893\n",
            "3572 :, spread = 83.75 , cost = 25.08011131588339\n",
            "not add 5619 :, spread = 83.85 , cost = 25.16155669564773\n",
            "********************************* benefit-ratio finished *********************************\n",
            "\n",
            "\n",
            "time benefit-ratio = [499.4150507450104]\n",
            "<----------------result CELF Algorithm ----------------->\n",
            "celf output =  [556, 369, 390, 504, 664, 755, 1036, 1231, 1754, 2030, 2184, 2517, 2693, 2750, 2786, 3130, 3366, 3472, 3902, 4378, 4620, 4629, 4700, 5730, 6164, 6343, 6356, 2378, 4303, 4481, 675, 3733, 4853, 4668, 5416, 624, 5720, 6360, 2478, 2367, 3888, 5251, 4089, 2689, 3450, 4909, 2885, 3493, 1385, 3109, 3253, 5808, 1241, 1557, 5810, 2799, 126, 357, 1871, 2859, 5588, 6451, 4082, 4581, 3639, 1269, 980, 1540, 1116, 4767, 5411, 2443, 5675, 2476, 2624, 5061, 5700, 4749, 1027, 3217, 5811, 3955, 2673, 5850, 2710, 6580, 2475, 4021, 4468, 3663, 3302, 5419, 2645, 4901, 336, 478, 890, 3752, 3967, 3018, 3795, 1123, 5332, 4227, 6278, 5614, 4096, 231, 4852, 3195, 6063, 1040, 4705, 1789, 3897, 6255, 6036, 2171, 3058, 2943, 3290, 2520, 3395, 4595, 1046, 6055, 5781, 1316, 4314, 661, 5230, 3163, 5399, 855, 4878, 5120, 2402, 1396, 6005, 1197, 2186, 629, 4320, 4582, 850, 2331, 1328, 2715, 4075, 3406, 5337, 3093, 2523, 109, 754, 5098, 2471, 2977, 2017, 4421, 6279, 5099, 577, 2834, 4389, 2902, 2274, 3677, 3438, 5897, 2822, 593, 4011, 923, 2871, 3798, 1371, 200, 4961, 2390, 3698, 6257, 2753, 2768, 1677, 5290, 5816, 5520, 4835, 1346, 5087, 1610, 6075, 1808, 1875, 3244, 4883, 1104, 4744, 1264, 4428, 1765, 358, 1786, 780, 3783, 2537, 5024, 904, 3038, 170, 2935, 1317, 764, 2867, 5494, 6241, 1758, 5725, 1012, 549, 2502, 6350, 5874, 6071, 758, 4429, 22, 2007, 2538, 6115, 720, 1367, 3528, 5577, 5301, 2707, 4217, 2775, 3435, 1823, 5859, 4662, 1704, 3090, 2987, 3876, 1016, 5579, 873, 3600, 4994, 1930, 335, 3785, 2514, 2229, 3646, 2679, 4129, 5135, 6465, 2709, 728, 4522, 5848, 2708, 161, 1809, 4698, 2085, 3918, 1402, 1835, 4990, 1845, 2928, 3717, 4634, 4832, 3804, 5005, 5744, 4239, 1826, 6363, 1443, 584, 3801, 2620, 773, 6332, 4133, 4128, 445, 5717, 5309, 4993, 3183, 5179, 363, 646, 3786, 5707, 1229, 414, 3747, 6374, 2418, 2112, 2508, 6493, 4039, 5205, 6294, 2889, 4238, 5985, 5555, 6240, 3948, 2580, 3232, 2730, 3191, 4619, 4019, 2389, 5915, 6089, 4414, 879, 389, 1173, 3572]\n",
            "mean spread value = 83.75\n",
            "run time = 509.3293113708496\n"
          ]
        }
      ]
    }
  ]
}