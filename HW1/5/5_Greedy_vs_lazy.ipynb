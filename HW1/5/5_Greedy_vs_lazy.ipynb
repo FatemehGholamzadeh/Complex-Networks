{
  "nbformat": 4,
  "nbformat_minor": 0,
  "metadata": {
    "colab": {
      "name": "5_Greedy_vs_lazy.ipynb",
      "provenance": [],
      "collapsed_sections": [],
      "toc_visible": true
    },
    "kernelspec": {
      "name": "python3",
      "display_name": "Python 3"
    },
    "language_info": {
      "name": "python"
    }
  },
  "cells": [
    {
      "cell_type": "code",
      "metadata": {
        "id": "r_0vzO9Y4ZIb"
      },
      "source": [
        "import matplotlib.pyplot as plt\n",
        "import numpy as np\n",
        "import time\n",
        "import scipy.io"
      ],
      "execution_count": 1,
      "outputs": []
    },
    {
      "cell_type": "code",
      "metadata": {
        "colab": {
          "base_uri": "https://localhost:8080/"
        },
        "id": "8g8t4EgK4kgv",
        "outputId": "c7d35358-19cd-4428-a2cd-f4b22c2bbdc5"
      },
      "source": [
        "from google.colab import drive\n",
        "drive.mount('/content/drive')"
      ],
      "execution_count": 2,
      "outputs": [
        {
          "output_type": "stream",
          "name": "stdout",
          "text": [
            "Drive already mounted at /content/drive; to attempt to forcibly remount, call drive.mount(\"/content/drive\", force_remount=True).\n"
          ]
        }
      ]
    },
    {
      "cell_type": "markdown",
      "metadata": {
        "id": "l5usjB-f7S5P"
      },
      "source": [
        "# definition of functions"
      ]
    },
    {
      "cell_type": "code",
      "metadata": {
        "id": "GCRaszakwAV4"
      },
      "source": [
        "def change_MAT_to_TXT(input_file, output_file):\n",
        "    mat = scipy.io.loadmat(input_file)\n",
        "    A = mat.__getitem__('A')\n",
        "    file = open(output_file, 'w')\n",
        "    for i in range(A.shape[0]):\n",
        "        for j in A[i].nonzero()[1]:\n",
        "            file.write(str(i) + ' ' + str(j) + ' ' + str(A[i, j]) + '\\n')\n",
        "    file.close()"
      ],
      "execution_count": 24,
      "outputs": []
    },
    {
      "cell_type": "code",
      "metadata": {
        "id": "XDsiVVPCwI1l"
      },
      "source": [
        "def build_matrix(dataset, size_matrix):\n",
        "    result = np.zeros([size_matrix, size_matrix])\n",
        "    A = open(dataset, encoding='utf-8')\n",
        "    for line in A:\n",
        "        text = line.split()\n",
        "        result[int(text[0]), int(text[1])] = 1 #abs(float(text[2]))\n",
        "    return result"
      ],
      "execution_count": 25,
      "outputs": []
    },
    {
      "cell_type": "code",
      "metadata": {
        "id": "3-kAMNtSwLmR"
      },
      "source": [
        "# this function build n realization of probabilistic graph\n",
        "def build_probable_matrices(adjacency_matrix, num_realization, p):\n",
        "    list_m = []\n",
        "    for x in range(num_realization):\n",
        "        temp = np.array(adjacency_matrix)\n",
        "        for i in range(num_node):\n",
        "            indexes = np.nonzero(temp[i])\n",
        "            for j in indexes[0]:\n",
        "                if j>= i :\n",
        "                    temp[i, j] = np.random.uniform(0, 1, 1)[0] < p\n",
        "                    temp[j,i] = temp[i,j]\n",
        "        list_m.append(temp)\n",
        "    return list_m"
      ],
      "execution_count": 10,
      "outputs": []
    },
    {
      "cell_type": "code",
      "metadata": {
        "id": "GC-JnVQ64krX"
      },
      "source": [
        "def get_neighbor(g, node):\n",
        "    return np.nonzero(g[node])[0]\n",
        "\n",
        "\n",
        "def IC1(list_g, S):\n",
        "    score = 0\n",
        "    for g in list_g:\n",
        "        neighbor = []\n",
        "        for s in S:\n",
        "            neighbor.extend(np.nonzero(g[s])[0])\n",
        "        score += len(list(set(neighbor)))\n",
        "    score /= len(list_g)\n",
        "    return score\n",
        "\n",
        "\n",
        "def IC(list_g, S):\n",
        "    spread = []\n",
        "    for i in range(len(list_g)):\n",
        "        g = list_g[i]\n",
        "        new_active, A = S[:], S[:]\n",
        "        while new_active:\n",
        "            new_ones = []\n",
        "            for node in new_active:\n",
        "                new_ones += list(set(get_neighbor(g, node)))\n",
        "            new_active = list(set(new_ones) - set(A))\n",
        "            A += new_active\n",
        "        spread.append(len(A))\n",
        "    return np.mean(spread)"
      ],
      "execution_count": 5,
      "outputs": []
    },
    {
      "cell_type": "markdown",
      "metadata": {
        "id": "7JI6jsW27dOY"
      },
      "source": [
        "## **greedy hill climbing algorithm**"
      ]
    },
    {
      "cell_type": "code",
      "metadata": {
        "id": "PedTuPcqwXdj"
      },
      "source": [
        "def greedy_hill_climbing(g, k):\n",
        "    S, spread, timelapse, start_time = [], [], [], time.time()\n",
        "    # Find k nodes with largest marginal gain\n",
        "    kprime = min(k, num_node)\n",
        "    for o in range(kprime):\n",
        "        best_spread = 0\n",
        "        for j in set(range(num_node)) - set(S):\n",
        "            s = IC1(g, S + [j])\n",
        "            if s >= best_spread:\n",
        "                best_spread, node = s, j\n",
        "        S.append(node)\n",
        "        print(\"number \" + str(o + 1) +\" : \" +str(node)+\"   spread = \"+str(best_spread))\n",
        "        spread.append(best_spread)\n",
        "        timelapse.append(time.time() - start_time)\n",
        "    return S, spread, timelapse"
      ],
      "execution_count": 19,
      "outputs": []
    },
    {
      "cell_type": "markdown",
      "metadata": {
        "id": "XfLTAlAC7j9A"
      },
      "source": [
        "## **Lazy hill climbing algorithm**"
      ]
    },
    {
      "cell_type": "code",
      "metadata": {
        "id": "-cH0K2HewZxd"
      },
      "source": [
        "def lazy_hill_climbing(g, k):\n",
        "    start_time = time.time()\n",
        "    marg_gain = [IC1(g, [node]) for node in range(num_node)]\n",
        "    Q = sorted(zip(range(num_node), marg_gain), key=lambda x: x[1], reverse=True)\n",
        "    S,s, SPREAD = [Q[0][0]],Q[0][1], [Q[0][1]]\n",
        "    Q, timelapse = Q[1:], [time.time() - start_time]\n",
        "    print(\"number 1: \"+str(S[0]))\n",
        "    kprime = min(k, num_node)\n",
        "    for o in range(1, kprime):\n",
        "        check = False\n",
        "        while not check:\n",
        "            current = Q[0][0]\n",
        "            Q[0] = (current, IC1(g, S + [current])-s)\n",
        "            Q = sorted(Q, key=lambda x: x[1], reverse=True)\n",
        "            check = (Q[0][0] == current)\n",
        "        S.append(Q[0][0])\n",
        "        s += Q[0][1]\n",
        "        SPREAD.append(s)\n",
        "        timelapse.append(time.time() - start_time)\n",
        "        print(\"number \"+str(o + 1) + \" : \"+ str(Q[0][0])+ \"   spread = \"+str(s))\n",
        "        Q = Q[1:]\n",
        "    return S, SPREAD, timelapse"
      ],
      "execution_count": 20,
      "outputs": []
    },
    {
      "cell_type": "markdown",
      "metadata": {
        "id": "5nON4hbp7rBP"
      },
      "source": [
        "# load data"
      ]
    },
    {
      "cell_type": "code",
      "metadata": {
        "colab": {
          "base_uri": "https://localhost:8080/"
        },
        "id": "cYInq7Vt43hH",
        "outputId": "7a403aed-0fb6-450d-dce5-98f1930b190c"
      },
      "source": [
        "# load file\n",
        "input_file = '/content/drive/MyDrive/CN/facebook101_princton_weighted.mat'\n",
        "txt_input_file = '/content/drive/MyDrive/CN/dataset.txt'\n",
        "# change_MAT_to_TXT(input_file, txt_input_file)\n",
        "num_node = 6596\n",
        "adjacency_matrix = build_matrix(txt_input_file, num_node)\n",
        "print(\"read input file and convert to matrix\")"
      ],
      "execution_count": 8,
      "outputs": [
        {
          "output_type": "stream",
          "name": "stdout",
          "text": [
            "read input file and convert to matrix\n"
          ]
        }
      ]
    },
    {
      "cell_type": "code",
      "metadata": {
        "colab": {
          "base_uri": "https://localhost:8080/"
        },
        "id": "4DEOQoWkxMDC",
        "outputId": "a9c70577-3ff0-473e-e3c6-477fa15fc4b0"
      },
      "source": [
        "import scipy\n",
        "import networkx as nx\n",
        "path = '/content/drive/MyDrive/CN/facebook101_princton_weighted.mat'\n",
        "mat = scipy.io.loadmat(path)\n",
        "A = mat['A']\n",
        "G = nx.from_scipy_sparse_matrix(A)\n",
        "print(nx.info(G))"
      ],
      "execution_count": 17,
      "outputs": [
        {
          "output_type": "stream",
          "name": "stdout",
          "text": [
            "Graph with 6596 nodes and 293320 edges\n"
          ]
        }
      ]
    },
    {
      "cell_type": "code",
      "metadata": {
        "colab": {
          "base_uri": "https://localhost:8080/"
        },
        "id": "xG-Iv5Jdwu7Y",
        "outputId": "2cd7974b-5f0f-405c-a1fb-4a87657da9c8"
      },
      "source": [
        "print(adjacency_matrix)\n",
        "np.sum(adjacency_matrix)/2"
      ],
      "execution_count": 29,
      "outputs": [
        {
          "output_type": "stream",
          "name": "stdout",
          "text": [
            "[[0. 0. 0. ... 0. 0. 0.]\n",
            " [0. 0. 0. ... 0. 0. 0.]\n",
            " [0. 0. 0. ... 0. 0. 0.]\n",
            " ...\n",
            " [0. 0. 0. ... 0. 0. 0.]\n",
            " [0. 0. 0. ... 0. 0. 0.]\n",
            " [0. 0. 0. ... 0. 0. 0.]]\n"
          ]
        },
        {
          "output_type": "execute_result",
          "data": {
            "text/plain": [
              "293320.0"
            ]
          },
          "metadata": {},
          "execution_count": 29
        }
      ]
    },
    {
      "cell_type": "markdown",
      "metadata": {
        "id": "NOE604zS72jh"
      },
      "source": [
        "# make realization and run algorithms"
      ]
    },
    {
      "cell_type": "code",
      "metadata": {
        "colab": {
          "base_uri": "https://localhost:8080/"
        },
        "id": "3rYvMk6g5Drl",
        "outputId": "2cca6118-0e0f-4137-b082-9834faf10005"
      },
      "source": [
        "# genetate realization\n",
        "num_realization = 10\n",
        "list_realization = build_probable_matrices(adjacency_matrix, num_realization, p=0.2)\n",
        "print(\"generate \" + str(num_realization) + \" realization successfully\")"
      ],
      "execution_count": 16,
      "outputs": [
        {
          "output_type": "stream",
          "name": "stdout",
          "text": [
            "generate 10 realization successfully\n"
          ]
        }
      ]
    },
    {
      "cell_type": "code",
      "metadata": {
        "colab": {
          "base_uri": "https://localhost:8080/",
          "height": 806
        },
        "id": "uM0QFcjn45gO",
        "outputId": "7b4400fe-e06a-4d85-a53c-962c7c0f8247"
      },
      "source": [
        "# Run algorithms\n",
        "size_S = 10\n",
        "print(\"start running lazy_hill_climbing\")\n",
        "lazy_hill_climbing_output = lazy_hill_climbing(list_realization, size_S)\n",
        "print(\"lazy_hill_climbing output:   \" + str(lazy_hill_climbing_output[0]))\n",
        "\n",
        "print(\"start running greedy_hill_climbing\")\n",
        "greedy_hill_climbing_output = greedy_hill_climbing(list_realization, size_S)\n",
        "print(\"greedy_hill_climbing output: \" + str(greedy_hill_climbing_output[0]))\n",
        "\n",
        "plt.rcParams['figure.figsize'] = (8, 5)\n",
        "plt.rcParams['lines.linewidth'] = 3\n",
        "plt.rcParams['xtick.bottom'] = False\n",
        "plt.rcParams['ytick.left'] = False\n",
        "\n",
        "\n",
        "plt.subplots()\n",
        "plt.plot(range(1, len(greedy_hill_climbing_output[2]) + 1), greedy_hill_climbing_output[2], label=\"greedy_hill_climbing\", color=\"m\")\n",
        "plt.plot(range(1, len(lazy_hill_climbing_output[2]) + 1), lazy_hill_climbing_output[2], label=\"lazy_hill_climbing\", color=\"c\")\n",
        "plt.ylabel('Time (Seconds)')\n",
        "plt.xlabel('Size of S Set')\n",
        "plt.title('Computation Time')\n",
        "plt.legend(loc=2)"
      ],
      "execution_count": 26,
      "outputs": [
        {
          "output_type": "stream",
          "name": "stdout",
          "text": [
            "start running lazy_hill_climbing\n",
            "number 1: 412\n",
            "number 2 : 41   spread = 246.7\n",
            "number 3 : 4894   spread = 355.2\n",
            "number 4 : 6068   spread = 459.1\n",
            "number 5 : 2259   spread = 550.7\n",
            "number 6 : 1195   spread = 636.5\n",
            "number 7 : 1232   spread = 717.0\n",
            "number 8 : 5107   spread = 793.7\n",
            "number 9 : 957   spread = 868.1\n",
            "number 10 : 1286   spread = 939.0\n",
            "lazy_hill_climbing output:   [412, 41, 4894, 6068, 2259, 1195, 1232, 5107, 957, 1286]\n",
            "start running greedy_hill_climbing\n",
            "number 1 : 412   spread = 126.6\n",
            "number 2 : 41   spread = 246.7\n",
            "number 3 : 4894   spread = 355.2\n",
            "number 4 : 6068   spread = 459.1\n",
            "number 5 : 2259   spread = 550.7\n",
            "number 6 : 1195   spread = 636.5\n",
            "number 7 : 1232   spread = 717.0\n",
            "number 8 : 5107   spread = 793.7\n",
            "number 9 : 957   spread = 868.1\n",
            "number 10 : 1286   spread = 939.0\n",
            "greedy_hill_climbing output: [412, 41, 4894, 6068, 2259, 1195, 1232, 5107, 957, 1286]\n"
          ]
        },
        {
          "output_type": "execute_result",
          "data": {
            "text/plain": [
              "<matplotlib.legend.Legend at 0x7f98877e49d0>"
            ]
          },
          "metadata": {},
          "execution_count": 26
        },
        {
          "output_type": "display_data",
          "data": {
            "image/png": "[encoded data removed]",
            "text/plain": [
              "<Figure size 576x360 with 1 Axes>"
            ]
          },
          "metadata": {
            "needs_background": "light"
          }
        }
      ]
    }
  ]
}