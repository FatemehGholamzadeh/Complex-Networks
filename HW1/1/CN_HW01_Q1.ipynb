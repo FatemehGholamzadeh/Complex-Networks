{
  "nbformat": 4,
  "nbformat_minor": 0,
  "metadata": {
    "colab": {
      "name": "CN_HW01_Q1.ipynb",
      "provenance": [],
      "collapsed_sections": [
        "FYzfww8dYUNh",
        "-YSzeCG_dgwq",
        "btj1G43BwNQx",
        "jlrohj7tZhce",
        "L76lEKBmmsgu",
        "zu6YuZ_0nbdC",
        "d5Z7NXKBgWtH"
      ],
      "toc_visible": true
    },
    "kernelspec": {
      "display_name": "Python 3",
      "name": "python3"
    },
    "language_info": {
      "name": "python"
    }
  },
  "cells": [
    {
      "cell_type": "code",
      "metadata": {
        "id": "m0_R0q6YXTQf"
      },
      "source": [
        "import networkx as nx\n",
        "import numpy as np\n",
        "import matplotlib.pyplot as plt\n",
        "from matplotlib import style\n",
        "import pandas as pd    \n",
        "import scipy.io\n",
        "# style.use('ggplot')"
      ],
      "execution_count": 1,
      "outputs": []
    },
    {
      "cell_type": "code",
      "metadata": {
        "id": "76abbfqSkvFy",
        "colab": {
          "base_uri": "https://localhost:8080/"
        },
        "outputId": "c9523db9-fb96-4655-9a2d-1fbdeb97fa62"
      },
      "source": [
        "from google.colab import drive\n",
        "drive.mount('/content/drive')"
      ],
      "execution_count": 2,
      "outputs": [
        {
          "output_type": "stream",
          "name": "stdout",
          "text": [
            "Mounted at /content/drive\n"
          ]
        }
      ]
    },
    {
      "cell_type": "markdown",
      "metadata": {
        "id": "FYzfww8dYUNh"
      },
      "source": [
        "# Load Data"
      ]
    },
    {
      "cell_type": "code",
      "metadata": {
        "id": "3_poMkg5puzk",
        "colab": {
          "base_uri": "https://localhost:8080/"
        },
        "outputId": "e7d2c6de-e57a-412b-d088-cf6501f2027c"
      },
      "source": [
        "path = '/content/drive/MyDrive/Complex_Networks/HW01/facebook101_princton_weighted.mat'\n",
        "mat = scipy.io.loadmat(path)\n",
        "A = mat['A']\n",
        "print(A)"
      ],
      "execution_count": 3,
      "outputs": [
        {
          "output_type": "stream",
          "name": "stdout",
          "text": [
            "  (41, 0)\t0.23341986187511532\n",
            "  (74, 0)\t-0.8310836341707424\n",
            "  (183, 0)\t0.3630774693417993\n",
            "  (199, 0)\t-0.4255819109410841\n",
            "  (330, 0)\t-0.8915522179046713\n",
            "  (342, 0)\t0.6004699460747422\n",
            "  (438, 0)\t0.559033155005757\n",
            "  (638, 0)\t-0.15789912487319158\n",
            "  (639, 0)\t-0.3689795200377264\n",
            "  (700, 0)\t0.667096028355807\n",
            "  (762, 0)\t0.6388290129260563\n",
            "  (790, 0)\t-0.5971903653879409\n",
            "  (813, 0)\t-0.9203448232766431\n",
            "  (908, 0)\t-0.5661217215565775\n",
            "  (1001, 0)\t-0.40887388509123834\n",
            "  (1074, 0)\t0.14383939484847108\n",
            "  (1084, 0)\t0.4229554254707699\n",
            "  (1179, 0)\t0.3118105095583956\n",
            "  (1195, 0)\t0.014127530389211218\n",
            "  (1226, 0)\t-0.47309716640306787\n",
            "  (1252, 0)\t-0.013995007645000168\n",
            "  (1343, 0)\t-0.3969440595287481\n",
            "  (1415, 0)\t0.49268599971253546\n",
            "  (1435, 0)\t-0.21118357393040132\n",
            "  (1489, 0)\t-0.250254338391553\n",
            "  :\t:\n",
            "  (3083, 6595)\t-0.2566179533318984\n",
            "  (3255, 6595)\t-0.16483967626475793\n",
            "  (3311, 6595)\t-0.9284036578868178\n",
            "  (3487, 6595)\t0.9428205382791961\n",
            "  (3647, 6595)\t-0.42217693188211425\n",
            "  (3668, 6595)\t-0.36534361853547503\n",
            "  (4023, 6595)\t0.8239484366157184\n",
            "  (4243, 6595)\t0.6851792356594184\n",
            "  (4274, 6595)\t0.9260160708129963\n",
            "  (4364, 6595)\t0.10388197690840384\n",
            "  (4512, 6595)\t-0.8146840514424398\n",
            "  (5146, 6595)\t0.1551500432630697\n",
            "  (5236, 6595)\t-0.4750785844234471\n",
            "  (5354, 6595)\t-0.7205657669715322\n",
            "  (5407, 6595)\t-0.7608004163800224\n",
            "  (5408, 6595)\t-0.4444347315815729\n",
            "  (5428, 6595)\t0.23840572054270304\n",
            "  (5541, 6595)\t-0.9204416888877411\n",
            "  (5656, 6595)\t0.9629661899264776\n",
            "  (5662, 6595)\t0.6833325001629929\n",
            "  (5701, 6595)\t-0.30194432494677126\n",
            "  (5877, 6595)\t0.06791589086551841\n",
            "  (6494, 6595)\t-0.7797964925244472\n",
            "  (6510, 6595)\t0.6686343083902995\n",
            "  (6568, 6595)\t-0.05460279445991589\n"
          ]
        }
      ]
    },
    {
      "cell_type": "code",
      "metadata": {
        "id": "ut84B0WC3G6K",
        "colab": {
          "base_uri": "https://localhost:8080/"
        },
        "outputId": "1c390fa1-b2d9-445f-e3a5-b547869bc23f"
      },
      "source": [
        "G = nx.from_scipy_sparse_matrix(A)\n",
        "print(nx.info(G))"
      ],
      "execution_count": 4,
      "outputs": [
        {
          "output_type": "stream",
          "name": "stdout",
          "text": [
            "Graph with 6596 nodes and 293320 edges\n"
          ]
        }
      ]
    },
    {
      "cell_type": "markdown",
      "metadata": {
        "id": "-YSzeCG_dgwq"
      },
      "source": [
        "# Question1_Part1: Degree Distribution Plot"
      ]
    },
    {
      "cell_type": "code",
      "metadata": {
        "id": "iXHaGwG43K6R"
      },
      "source": [
        "def plot_log_degree_distribution(G):\n",
        "  degs = {}\n",
        "  for n in G.nodes():\n",
        "    deg = G.degree(n) \n",
        "    if deg not in degs:\n",
        "      degs[deg] = 0 \n",
        "    degs[deg] += 1\n",
        "  items = sorted(degs.items())\n",
        "\n",
        "  fig = plt.figure(figsize=(8,6))\n",
        "  ax = fig.add_subplot(111)\n",
        "  ax.plot([key for (key,value) in items], [value for (key,value) in items],c='darkcyan') \n",
        "  ax.set_xscale('log') \n",
        "  ax.set_yscale('log')\n",
        "  ax.set_xlabel(\"log Degree\")\n",
        "  ax.set_ylabel(\"log Frequency of Nodes\")\n",
        "  plt.title(\"Degree Distribution Log Plot\")\n",
        "  plt.show()\n",
        "  fig.savefig(\"degree_distribution_log.png\")"
      ],
      "execution_count": null,
      "outputs": []
    },
    {
      "cell_type": "code",
      "metadata": {
        "colab": {
          "base_uri": "https://localhost:8080/"
        },
        "id": "WhJJBOoUeNYt",
        "outputId": "70c54a64-5280-4454-f2b8-d60816c384f3"
      },
      "source": [
        "plot_log_degree_distribution(G)"
      ],
      "execution_count": null,
      "outputs": [
        {
          "output_type": "display_data",
          "data": {
            "image/png": "[encoded data removed]",
            "text/plain": [
              "<Figure size 576x432 with 1 Axes>"
            ]
          },
          "metadata": {
            "needs_background": "light"
          }
        }
      ]
    },
    {
      "cell_type": "code",
      "metadata": {
        "id": "ZC9xIZW4izRr"
      },
      "source": [
        "def plot_degree_distribution(G):\n",
        "  degs = {}\n",
        "  for n in G.nodes():\n",
        "    deg = G.degree(n) \n",
        "    if deg not in degs:\n",
        "      degs[deg] = 0 \n",
        "    degs[deg] += 1\n",
        "  items = sorted(degs.items())\n",
        "\n",
        "  fig = plt.figure(figsize=(8,6))\n",
        "  ax = fig.add_subplot(111)\n",
        "  ax.plot([key for (key,value) in items], [value for (key,value) in items],c='orangered') \n",
        "  ax.set_xlabel(\"Degree\")\n",
        "  ax.set_ylabel(\"Frequency of Nodes\")\n",
        "  plt.title(\"Degree Distribution Plot\")\n",
        "  plt.show()\n",
        "  fig.savefig(\"degree_distribution.png\")"
      ],
      "execution_count": null,
      "outputs": []
    },
    {
      "cell_type": "code",
      "metadata": {
        "colab": {
          "base_uri": "https://localhost:8080/"
        },
        "id": "sSWrphRtjGXq",
        "outputId": "aff14923-70df-4f90-d166-1780dedbef3b"
      },
      "source": [
        "plot_degree_distribution(G)"
      ],
      "execution_count": null,
      "outputs": [
        {
          "output_type": "display_data",
          "data": {
            "image/png": "[encoded data removed]",
            "text/plain": [
              "<Figure size 576x432 with 1 Axes>"
            ]
          },
          "metadata": {
            "needs_background": "light"
          }
        }
      ]
    },
    {
      "cell_type": "markdown",
      "metadata": {
        "id": "btj1G43BwNQx"
      },
      "source": [
        "# part2: finding 7 length paths"
      ]
    },
    {
      "cell_type": "code",
      "metadata": {
        "colab": {
          "base_uri": "https://localhost:8080/"
        },
        "id": "VFDFhVW6AWLy",
        "outputId": "8df1ad5d-d15c-48f5-f007-4a5ba79dc770"
      },
      "source": [
        "from numpy.linalg import matrix_power\n",
        "\n",
        "adjacency_matrix = nx.to_numpy_matrix(G, weight=None)\n",
        "adj_7 = matrix_power(adjacency_matrix, 7)\n",
        "np.sum(adj_7)/2"
      ],
      "execution_count": null,
      "outputs": [
        {
          "output_type": "execute_result",
          "data": {
            "text/plain": [
              "6.128511995623708e+18"
            ]
          },
          "metadata": {},
          "execution_count": 5
        }
      ]
    },
    {
      "cell_type": "markdown",
      "metadata": {
        "id": "jlrohj7tZhce"
      },
      "source": [
        "# part 5: connected components"
      ]
    },
    {
      "cell_type": "code",
      "metadata": {
        "id": "S6oTkwqBBgSx",
        "colab": {
          "base_uri": "https://localhost:8080/"
        },
        "outputId": "11f45996-307b-432b-9650-3b42387a3659"
      },
      "source": [
        "def find_connected_components(graph):\n",
        "  seen_nodes = set()\n",
        "  for v in graph:\n",
        "    if v not in seen_nodes:\n",
        "      G_adj = graph.adj\n",
        "      seen = set()\n",
        "      nextlevel = {v}\n",
        "      while nextlevel:\n",
        "        thislevel = nextlevel\n",
        "        nextlevel = set()\n",
        "        for v in thislevel:\n",
        "          if v not in seen:\n",
        "              seen.add(v)\n",
        "              nextlevel.update(G_adj[v])\n",
        "      seen_nodes.update(seen)\n",
        "      yield seen\n",
        "\n",
        "connected_components_list = [G.subgraph(c).copy() for c in find_connected_components(G)]\n",
        "print(\"number of connected components is: \",len(connected_components_list))\n",
        "\n",
        "cc_size=[]\n",
        "for component in connected_components_list:\n",
        "  cc_size.append(component.number_of_nodes())\n",
        "\n",
        "print(\"size of connected components: \",sorted(cc_size,reverse=True))"
      ],
      "execution_count": null,
      "outputs": [
        {
          "output_type": "stream",
          "name": "stdout",
          "text": [
            "number of connected components is:  10\n",
            "size of connected components:  [6575, 3, 3, 3, 2, 2, 2, 2, 2, 2]\n"
          ]
        }
      ]
    },
    {
      "cell_type": "code",
      "metadata": {
        "colab": {
          "base_uri": "https://localhost:8080/"
        },
        "id": "hogtJl6DYxiM",
        "outputId": "4c8a6b13-90a5-440e-cbc7-c7206924ce5b"
      },
      "source": [
        "print(\"size of connected components: \",[len(c) for c in sorted(nx.connected_components(G), key=len, reverse=True)])"
      ],
      "execution_count": 6,
      "outputs": [
        {
          "output_type": "stream",
          "name": "stdout",
          "text": [
            "size of connected components:  [6575, 3, 3, 3, 2, 2, 2, 2, 2, 2]\n"
          ]
        }
      ]
    },
    {
      "cell_type": "markdown",
      "metadata": {
        "id": "L76lEKBmmsgu"
      },
      "source": [
        "# part3: diameter"
      ]
    },
    {
      "cell_type": "markdown",
      "metadata": {
        "id": "mUhhb7XtnVWp"
      },
      "source": [
        "## diameter of each component"
      ]
    },
    {
      "cell_type": "code",
      "metadata": {
        "colab": {
          "base_uri": "https://localhost:8080/"
        },
        "id": "KSf3E4bJgrnw",
        "outputId": "beeb33b3-8199-4c6e-f1b2-64c3bfedb37c"
      },
      "source": [
        "nx.diameter(connected_components_list[0])"
      ],
      "execution_count": null,
      "outputs": [
        {
          "output_type": "execute_result",
          "data": {
            "text/plain": [
              "9"
            ]
          },
          "metadata": {},
          "execution_count": 26
        }
      ]
    },
    {
      "cell_type": "code",
      "metadata": {
        "colab": {
          "base_uri": "https://localhost:8080/"
        },
        "id": "m0Nt9aUO-B3z",
        "outputId": "676361b1-c46a-4888-8e63-4d68b781cd0c"
      },
      "source": [
        "for i in range(1,10):\n",
        "  print(nx.diameter(connected_components_list[i]))"
      ],
      "execution_count": null,
      "outputs": [
        {
          "output_type": "stream",
          "name": "stdout",
          "text": [
            "1\n",
            "2\n",
            "1\n",
            "1\n",
            "2\n",
            "1\n",
            "1\n",
            "1\n",
            "1\n"
          ]
        }
      ]
    },
    {
      "cell_type": "markdown",
      "metadata": {
        "id": "zu6YuZ_0nbdC"
      },
      "source": [
        "## longest path length"
      ]
    },
    {
      "cell_type": "code",
      "metadata": {
        "colab": {
          "base_uri": "https://localhost:8080/"
        },
        "id": "_zVBVOUMm89H",
        "outputId": "e6d919cf-cb70-4c04-8acc-a8d5a0ec1377"
      },
      "source": [
        "import sys\n",
        "sys.setrecursionlimit(50000)\n",
        "print(sys.getrecursionlimit())"
      ],
      "execution_count": null,
      "outputs": [
        {
          "output_type": "stream",
          "name": "stdout",
          "text": [
            "50000\n"
          ]
        }
      ]
    },
    {
      "cell_type": "code",
      "metadata": {
        "id": "fdYaktGWm0zP"
      },
      "source": [
        "def DFS(graph, src, prev_len, max_len, visited): \n",
        "  visited[src] = 1 \n",
        "  curr_len = 0\n",
        "  adjacent = None\n",
        "  G_adj = graph.adj\n",
        "  for adjacent in list(G_adj[src].keys()): \n",
        "    if not visited[adjacent]: \n",
        "        curr_len = prev_len + 1\n",
        "        DFS(graph, adjacent, curr_len, max_len, visited) \n",
        "    if (max_len[0] < curr_len):  \n",
        "        max_len[0] = curr_len  \n",
        "    curr_len = 0"
      ],
      "execution_count": null,
      "outputs": []
    },
    {
      "cell_type": "code",
      "metadata": {
        "colab": {
          "base_uri": "https://localhost:8080/"
        },
        "id": "nRHJUGHlm2rh",
        "outputId": "766c24ca-961b-410d-ef8e-8109473615ee"
      },
      "source": [
        "max_len = [-999999999999]\n",
        "G0 = connected_components_list[0]\n",
        "for node in G0.nodes():\n",
        "  if node%250 == 0:\n",
        "    print(node)\n",
        "  visited = [False] * G.number_of_nodes()\n",
        "  DFS(G0, node, 0, max_len, visited)\n",
        "\n",
        "print()\n",
        "print(max_len[0])\n",
        "0"
      ],
      "execution_count": null,
      "outputs": [
        {
          "output_type": "stream",
          "name": "stdout",
          "text": [
            "0\n",
            "250\n",
            "500\n",
            "750\n",
            "1000\n",
            "1250\n",
            "1500\n",
            "1750\n",
            "2000\n",
            "2250\n",
            "2500\n",
            "2750\n",
            "3000\n",
            "3250\n",
            "3500\n",
            "3750\n",
            "4000\n",
            "4250\n",
            "4500\n",
            "4750\n",
            "5000\n",
            "5250\n",
            "5500\n",
            "5750\n",
            "6000\n",
            "6250\n",
            "6500\n",
            "\n",
            "5896\n"
          ]
        },
        {
          "output_type": "execute_result",
          "data": {
            "text/plain": [
              "0"
            ]
          },
          "metadata": {},
          "execution_count": 50
        }
      ]
    },
    {
      "cell_type": "markdown",
      "metadata": {
        "id": "d5Z7NXKBgWtH"
      },
      "source": [
        "# part 4: global clustering coefficient\n",
        "\n",
        "https://notebook.community/SubhankarGhosh/NetworkX/4.%20Cliques,%20Triangles%20and%20Graph%20Structures%20(Instructor)\n"
      ]
    },
    {
      "cell_type": "code",
      "metadata": {
        "colab": {
          "base_uri": "https://localhost:8080/"
        },
        "id": "el7GeJm0cUMN",
        "outputId": "a2e3c4f0-a9d7-4350-fe33-d05f963e25fa"
      },
      "source": [
        "number_of_triangles = sum(nx.triangles(G).values()) / 3\n",
        "number_of_triangles"
      ],
      "execution_count": null,
      "outputs": [
        {
          "output_type": "execute_result",
          "data": {
            "text/plain": [
              "2520541.0"
            ]
          },
          "metadata": {},
          "execution_count": 42
        }
      ]
    },
    {
      "cell_type": "code",
      "metadata": {
        "id": "3CKUEtQdSjPJ"
      },
      "source": [
        "from numpy.linalg import matrix_power\n",
        "\n",
        "adjacency_matrix = nx.to_numpy_matrix(G, weight=None)\n",
        "adj_3 = matrix_power(adjacency_matrix, 3)"
      ],
      "execution_count": null,
      "outputs": []
    },
    {
      "cell_type": "code",
      "metadata": {
        "colab": {
          "base_uri": "https://localhost:8080/"
        },
        "id": "SAjuBigcSmMM",
        "outputId": "7ee6c087-43d8-427f-bc67-8fc8a8f49096"
      },
      "source": [
        "print(\"number of triangles: \",np.trace(adj_3)/6)"
      ],
      "execution_count": null,
      "outputs": [
        {
          "output_type": "stream",
          "name": "stdout",
          "text": [
            "number of triangles:  2520541.0\n"
          ]
        }
      ]
    },
    {
      "cell_type": "code",
      "metadata": {
        "id": "ad9xtOtHck9V"
      },
      "source": [
        "from itertools import combinations\n",
        "\n",
        "#finding number of open triangles\n",
        "\n",
        "def get_open_triangles(G, node):\n",
        "    open_triangle_nodes = []\n",
        "    neighbors = set(G.neighbors(node))\n",
        "    \n",
        "    for n1, n2 in combinations(neighbors, 2):\n",
        "        if not G.has_edge(n1, n2):\n",
        "            open_triangle_nodes.append([n1, node, n2])\n",
        "    \n",
        "    return open_triangle_nodes"
      ],
      "execution_count": null,
      "outputs": []
    },
    {
      "cell_type": "code",
      "metadata": {
        "id": "Ip6bMVFGcnDt"
      },
      "source": [
        "s = 0\n",
        "for i in range(G.number_of_nodes() ):\n",
        "  s += len(get_open_triangles(G,i))\n",
        "w = s"
      ],
      "execution_count": null,
      "outputs": []
    },
    {
      "cell_type": "code",
      "metadata": {
        "colab": {
          "base_uri": "https://localhost:8080/"
        },
        "id": "rP_EqfeOXSSy",
        "outputId": "e500d54f-0dba-4fed-b57c-40062aff0991"
      },
      "source": [
        "print(\"global clustering coefficient is : \",6*number_of_triangles/w)"
      ],
      "execution_count": null,
      "outputs": [
        {
          "output_type": "stream",
          "name": "stdout",
          "text": [
            "global clustering coefficient is :  0.3920165748018862\n"
          ]
        }
      ]
    }
  ]
}